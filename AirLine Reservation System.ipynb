{
 "cells": [
  {
   "cell_type": "code",
   "execution_count": 1,
   "id": "dba5e07f",
   "metadata": {},
   "outputs": [],
   "source": [
    "# Airline\n",
    "\n",
    "def airline_system():\n",
    "    smokinglist = []\n",
    "    nonsmokinglist = [1,2,3]\n",
    "    \n",
    "    while True:\n",
    "        vsel = str(input(\"Do you to reserve seat : \"))\n",
    "        if vsel == 'Y':\n",
    "            print(\"Please type 1 for smoking : \")\n",
    "            print(\"Please type 2 for non-smoking : \")\n",
    "            select = int(input(\"Selected type : \"))\n",
    "            i = 0\n",
    "            y = 0\n",
    "            if select == 1:\n",
    "                if len(smokinglist) < 3:\n",
    "                    i +=1\n",
    "                    smokinglist.append(i)\n",
    "                    print(\"Your seat reserved in Smoking Cabin and Your Seat number is {}\".format(len(smokinglist))) \n",
    "                else:\n",
    "                    print(\"Seats are filled\")\n",
    "                    option = str(input(\"Do you want to reserve seat in Non-Smoking Cabin\"))\n",
    "                    if option == 'Y':\n",
    "                        if len(nonsmokinglist) < 7:\n",
    "                            nonsmokinglist.append(y)\n",
    "                            print(\"Your seat reserved in Non-Smoking Cabin and Your Seat is {}\".format(len(nonsmokinglist)))\n",
    "                            y +=1\n",
    "                        else:\n",
    "                            print(\"All Seats Are Reserved......!\")\n",
    "            elif select == 2:\n",
    "                if len(nonsmokinglist) < 7:\n",
    "                    nonsmokinglist.append(y)\n",
    "                    print(\"Your seat reserved in Non-Smoking Cabin and Your Seat is {}\".format(len(nonsmokinglist)))\n",
    "                    y +=1\n",
    "                else:\n",
    "                    print(\"All Seats are Reserved.....!\")\n",
    "                    break\n",
    "        else:\n",
    "            print(\"Next Flight in 6 hrs....!\")\n",
    "            break\n",
    "            \n",
    "    return (\"Thanks\")\n",
    "       \n",
    "        \n",
    "    \n",
    "    \n"
   ]
  },
  {
   "cell_type": "code",
   "execution_count": 2,
   "id": "16a9d884",
   "metadata": {},
   "outputs": [
    {
     "name": "stdout",
     "output_type": "stream",
     "text": [
      "Do you to reserve seat : Y\n",
      "Please type 1 for smoking : \n",
      "Please type 2 for non-smoking : \n",
      "Selected type : 1\n",
      "Your seat reserved in Smoking Cabin and Your Seat number is 1\n",
      "Do you to reserve seat : Y\n",
      "Please type 1 for smoking : \n",
      "Please type 2 for non-smoking : \n",
      "Selected type : 2\n",
      "Your seat reserved in Non-Smoking Cabin and Your Seat is 4\n",
      "Do you to reserve seat : Y\n",
      "Please type 1 for smoking : \n",
      "Please type 2 for non-smoking : \n",
      "Selected type : 2\n",
      "Your seat reserved in Non-Smoking Cabin and Your Seat is 5\n",
      "Do you to reserve seat : Y\n",
      "Please type 1 for smoking : \n",
      "Please type 2 for non-smoking : \n",
      "Selected type : 2\n",
      "Your seat reserved in Non-Smoking Cabin and Your Seat is 6\n",
      "Do you to reserve seat : Y\n",
      "Please type 1 for smoking : \n",
      "Please type 2 for non-smoking : \n",
      "Selected type : 2\n",
      "Your seat reserved in Non-Smoking Cabin and Your Seat is 7\n",
      "Do you to reserve seat : Y\n",
      "Please type 1 for smoking : \n",
      "Please type 2 for non-smoking : \n",
      "Selected type : 2\n",
      "All Seats are Reserved.....!\n",
      "Thanks\n"
     ]
    }
   ],
   "source": [
    "print(airline_system())"
   ]
  },
  {
   "cell_type": "code",
   "execution_count": null,
   "id": "23a5e2a1",
   "metadata": {},
   "outputs": [],
   "source": []
  }
 ],
 "metadata": {
  "kernelspec": {
   "display_name": "Python 3 (ipykernel)",
   "language": "python",
   "name": "python3"
  },
  "language_info": {
   "codemirror_mode": {
    "name": "ipython",
    "version": 3
   },
   "file_extension": ".py",
   "mimetype": "text/x-python",
   "name": "python",
   "nbconvert_exporter": "python",
   "pygments_lexer": "ipython3",
   "version": "3.9.7"
  }
 },
 "nbformat": 4,
 "nbformat_minor": 5
}
